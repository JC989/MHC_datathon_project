{
 "cells": [
  {
   "cell_type": "code",
   "execution_count": 53,
   "metadata": {},
   "outputs": [],
   "source": [
    "#Hello"
   ]
  },
  {
   "cell_type": "code",
   "execution_count": 58,
   "metadata": {},
   "outputs": [],
   "source": [
    "#Import Libraries\n",
    "import pandas as pd\n",
    "import os"
   ]
  },
  {
   "cell_type": "code",
   "execution_count": 59,
   "metadata": {},
   "outputs": [],
   "source": [
    "# Path to data folder relative to the notebook\n",
    "DATA_DIR = os.path.join(\"..\", \"data\", \"raw\")\n",
    "ace_violations = pd.read_csv(os.path.join(DATA_DIR, \"ACE_violations.csv\"))\n",
    "#ace_violations.head()"
   ]
  },
  {
   "cell_type": "code",
   "execution_count": null,
   "metadata": {},
   "outputs": [],
   "source": [
    "import json\n",
    "import math\n",
    "\n",
    "features = []\n",
    "\n",
    "for _, row in ace_violations.iterrows():\n",
    "    try:\n",
    "        v_lat, v_lon = row[\"Violation Latitude\"], row[\"Violation Longitude\"]\n",
    "\n",
    "        # Skip rows with bad coords\n",
    "        if (\n",
    "            pd.isna(v_lat) or pd.isna(v_lon) or\n",
    "            not (math.isfinite(v_lat) and math.isfinite(v_lon))\n",
    "        ):\n",
    "            continue\n",
    "\n",
    "        # Properties (convert everything to string to avoid JSON issues)\n",
    "        props = {col: str(row[col]) for col in [\n",
    "            \"Violation ID\",\n",
    "            \"Vehicle ID\",\n",
    "            \"First Occurrence\",\n",
    "            \"Last Occurrence\",\n",
    "            \"Violation Status\",\n",
    "            \"Violation Type\",\n",
    "            \"Bus Route ID\",\n",
    "            \"Stop ID\",\n",
    "            \"Stop Name\"\n",
    "        ] if col in row}\n",
    "\n",
    "        feature = {\n",
    "            \"type\": \"Feature\",\n",
    "            \"properties\": props,\n",
    "            \"geometry\": {\n",
    "                \"type\": \"Point\",\n",
    "                \"coordinates\": [float(v_lon), float(v_lat)]\n",
    "            }\n",
    "        }\n",
    "        features.append(feature)\n",
    "    except Exception as e:\n",
    "        print(f\"Skipping row due to error: {e}\")\n",
    "\n",
    "geojson = {\n",
    "    \"type\": \"FeatureCollection\",\n",
    "    \"features\": features\n",
    "}\n",
    "\n",
    "with open(\"/Users/danielbrown/Desktop/datathon_project/data/processed/violations.geojson\", \"w\", encoding=\"utf-8\") as f:\n",
    "    json.dump(geojson, f, indent=2, ensure_ascii=False)\n",
    "\n",
    "print(f\"✅ Saved {len(features)} point features to violations_points.geojson\")\n",
    "\n"
   ]
  },
  {
   "cell_type": "code",
   "execution_count": null,
   "metadata": {},
   "outputs": [],
   "source": [
    "# Preview first 3 features\n",
    "preview = {\n",
    "    \"type\": \"FeatureCollection\",\n",
    "    \"features\": features[:3]\n",
    "}\n",
    "\n",
    "#print(json.dumps(preview, indent=2, ensure_ascii=False))\n"
   ]
  },
  {
   "cell_type": "code",
   "execution_count": null,
   "metadata": {},
   "outputs": [],
   "source": [
    "\n"
   ]
  },
  {
   "cell_type": "code",
   "execution_count": null,
   "metadata": {},
   "outputs": [],
   "source": [
    "#Bus Speeds"
   ]
  },
  {
   "cell_type": "code",
   "execution_count": 67,
   "metadata": {},
   "outputs": [],
   "source": [
    "#data/raw/bus_speed_2020_2024.csv\n",
    "#data/raw/bus_speed_2025.csv"
   ]
  },
  {
   "cell_type": "code",
   "execution_count": 71,
   "metadata": {},
   "outputs": [],
   "source": [
    "# Path to data folder relative to the notebook\n",
    "DATA_DIR = os.path.join(\"..\", \"data\", \"raw\")"
   ]
  },
  {
   "cell_type": "code",
   "execution_count": 73,
   "metadata": {},
   "outputs": [
    {
     "name": "stdout",
     "output_type": "stream",
     "text": [
      "(19480, 24)\n",
      "   Year  Month               Timestamp Day of Week  Hour of Day Route ID  \\\n",
      "0  2023      3  03/01/2023 09:00:00 AM      Friday            9    BX12+   \n",
      "1  2023      3  03/01/2023 05:00:00 PM      Friday           17    BX12+   \n",
      "2  2023      3  03/01/2023 08:00:00 AM      Friday            8    BX12+   \n",
      "3  2023      3  03/01/2023 06:00:00 PM      Friday           18    BX12+   \n",
      "4  2023      3  03/01/2023 07:00:00 AM      Friday            7    BX12+   \n",
      "\n",
      "  Direction Borough Route Type  Stop Order  ...  Next Timepoint Stop ID  \\\n",
      "0         W   Bronx        SBS           1  ...                  103255   \n",
      "1         W   Bronx        SBS           1  ...                  103255   \n",
      "2         W   Bronx        SBS           1  ...                  103255   \n",
      "3         W   Bronx        SBS           1  ...                  103255   \n",
      "4         W   Bronx        SBS           1  ...                  103255   \n",
      "\n",
      "  Next Timepoint Stop Name  Next Timepoint Stop Latitude  \\\n",
      "0       EDSON AV/BARTOW AV                      40.86805   \n",
      "1       EDSON AV/BARTOW AV                      40.86805   \n",
      "2       EDSON AV/BARTOW AV                      40.86805   \n",
      "3       EDSON AV/BARTOW AV                      40.86805   \n",
      "4       EDSON AV/BARTOW AV                      40.86805   \n",
      "\n",
      "   Next Timepoint Stop Longitude  Road Distance Average Travel Time  \\\n",
      "0                      -73.83312          0.723            5.704170   \n",
      "1                      -73.83312          0.723            6.303486   \n",
      "2                      -73.83312          0.723            5.932716   \n",
      "3                      -73.83312          0.723            6.531348   \n",
      "4                      -73.83312          0.723            5.747100   \n",
      "\n",
      "   Average Road Speed  Bus Trip Count   Timepoint Stop Georeference  \\\n",
      "0            7.604966              52  POINT (-73.827298 40.865989)   \n",
      "1            6.881904              43  POINT (-73.827298 40.865989)   \n",
      "2            7.311997              54  POINT (-73.827298 40.865989)   \n",
      "3            6.641814              42  POINT (-73.827298 40.865989)   \n",
      "4            7.548152              69  POINT (-73.827298 40.865989)   \n",
      "\n",
      "   Next Timepoint Stop Georeference  \n",
      "0        POINT (-73.83312 40.86805)  \n",
      "1        POINT (-73.83312 40.86805)  \n",
      "2        POINT (-73.83312 40.86805)  \n",
      "3        POINT (-73.83312 40.86805)  \n",
      "4        POINT (-73.83312 40.86805)  \n",
      "\n",
      "[5 rows x 24 columns]\n"
     ]
    }
   ],
   "source": [
    "segment_speed_2020_2024 = pd.read_csv(os.path.join(DATA_DIR, \"segment_speed_2023_2024.csv\"))\n",
    "segment_speed_2025 = pd.read_csv(os.path.join(DATA_DIR, \"segment_speed_2025.csv\"))\n",
    "# Concatenate vertically (stack rows)\n",
    "segment_speed_all = pd.concat([segment_speed_2020_2024, segment_speed_2025], ignore_index=True)\n",
    "\n",
    "# Optional: check the combined shape\n",
    "print(segment_speed_all.shape)\n",
    "print(segment_speed_all.head())"
   ]
  },
  {
   "cell_type": "code",
   "execution_count": 76,
   "metadata": {},
   "outputs": [
    {
     "name": "stdout",
     "output_type": "stream",
     "text": [
      "   Year  Hour of Day   Timepoint Stop Georeference  \\\n",
      "0  2023            5  POINT (-73.826752 40.853265)   \n",
      "1  2023            5  POINT (-73.826763 40.853265)   \n",
      "2  2023            5  POINT (-73.827298 40.865989)   \n",
      "3  2023            5  POINT (-73.827301 40.852176)   \n",
      "4  2023            5    POINT (-73.83312 40.86805)   \n",
      "\n",
      "  Next Timepoint Stop Georeference  Road Distance  Average Travel Time  \\\n",
      "0     POINT (-73.827623 40.865666)         62.145           237.370062   \n",
      "1     POINT (-73.827623 40.865666)         20.730            76.575798   \n",
      "2       POINT (-73.83312 40.86805)         43.380           307.586292   \n",
      "3     POINT (-73.920569 40.867837)        375.534          1969.783128   \n",
      "4     POINT (-73.827301 40.852176)         73.980           308.396682   \n",
      "\n",
      "   Average Speed  \n",
      "0      15.708384  \n",
      "1      16.242730  \n",
      "2       8.462016  \n",
      "3      11.438843  \n",
      "4      14.393151  \n"
     ]
    }
   ],
   "source": [
    "import pandas as pd\n",
    "\n",
    "# Aggregate by Year, Hour of Day, Start Stop, End Stop\n",
    "agg_df = segment_speed_all.groupby(\n",
    "    [\"Year\", \"Hour of Day\", \"Timepoint Stop Georeference\", \"Next Timepoint Stop Georeference\"],\n",
    "    as_index=False\n",
    ").agg({\n",
    "    \"Road Distance\": \"sum\",\n",
    "    \"Average Travel Time\": \"sum\"\n",
    "})\n",
    "\n",
    "# Compute weighted average speed\n",
    "agg_df[\"Average Speed\"] = (agg_df[\"Road Distance\"] / agg_df[\"Average Travel Time\"])*60\n",
    "\n",
    "# Optional: inspect\n",
    "print(agg_df.head())\n"
   ]
  },
  {
   "cell_type": "code",
   "execution_count": null,
   "metadata": {},
   "outputs": [],
   "source": []
  },
  {
   "cell_type": "code",
   "execution_count": null,
   "metadata": {},
   "outputs": [],
   "source": []
  },
  {
   "cell_type": "code",
   "execution_count": null,
   "metadata": {},
   "outputs": [],
   "source": []
  },
  {
   "cell_type": "code",
   "execution_count": null,
   "metadata": {},
   "outputs": [],
   "source": []
  },
  {
   "cell_type": "code",
   "execution_count": null,
   "metadata": {},
   "outputs": [],
   "source": []
  },
  {
   "cell_type": "code",
   "execution_count": null,
   "metadata": {},
   "outputs": [],
   "source": []
  },
  {
   "cell_type": "code",
   "execution_count": null,
   "metadata": {},
   "outputs": [],
   "source": []
  },
  {
   "cell_type": "code",
   "execution_count": null,
   "metadata": {},
   "outputs": [],
   "source": []
  },
  {
   "cell_type": "code",
   "execution_count": null,
   "metadata": {},
   "outputs": [],
   "source": []
  }
 ],
 "metadata": {
  "kernelspec": {
   "display_name": "Python (datathon_env)",
   "language": "python",
   "name": "datathon_env"
  },
  "language_info": {
   "codemirror_mode": {
    "name": "ipython",
    "version": 3
   },
   "file_extension": ".py",
   "mimetype": "text/x-python",
   "name": "python",
   "nbconvert_exporter": "python",
   "pygments_lexer": "ipython3",
   "version": "3.13.3"
  }
 },
 "nbformat": 4,
 "nbformat_minor": 4
}
