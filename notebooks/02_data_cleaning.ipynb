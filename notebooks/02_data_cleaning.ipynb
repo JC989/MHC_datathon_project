{
 "cells": [
  {
   "cell_type": "code",
   "execution_count": 1,
   "metadata": {},
   "outputs": [
    {
     "data": {
      "text/plain": [
       "'\\nPurpose\\nThe code converts a DataFrame (ace_violations) containing bus-related violation data \\ninto a GeoJSON file with point features, suitable for mapping in GIS tools like Kepler.gl, \\nLeaflet, or Mapbox.\\n'"
      ]
     },
     "execution_count": 1,
     "metadata": {},
     "output_type": "execute_result"
    }
   ],
   "source": [
    "#Violations Dataset\n",
    "'''\n",
    "Purpose\n",
    "The code converts a DataFrame (ace_violations) containing bus-related violation data \n",
    "into a GeoJSON file with point features, suitable for mapping in GIS tools like Kepler.gl, \n",
    "Leaflet, or Mapbox.\n",
    "'''"
   ]
  },
  {
   "cell_type": "code",
   "execution_count": 2,
   "metadata": {},
   "outputs": [],
   "source": [
    "#Import Libraries\n",
    "import pandas as pd\n",
    "import os"
   ]
  },
  {
   "cell_type": "code",
   "execution_count": 3,
   "metadata": {},
   "outputs": [],
   "source": [
    "# Path to data folder relative to the notebook\n",
    "DATA_DIR = os.path.join(\"..\", \"data\", \"raw\")\n",
    "ace_violations = pd.read_csv(os.path.join(DATA_DIR, \"ACE_violations.csv\"))\n",
    "#ace_violations.head()"
   ]
  },
  {
   "cell_type": "code",
   "execution_count": 4,
   "metadata": {},
   "outputs": [
    {
     "name": "stdout",
     "output_type": "stream",
     "text": [
      "✅ Saved 185059 point features to violations_points.geojson\n"
     ]
    }
   ],
   "source": [
    "import json\n",
    "import math\n",
    "\n",
    "features = []\n",
    "\n",
    "for _, row in ace_violations.iterrows():\n",
    "    try:\n",
    "        v_lat, v_lon = row[\"Violation Latitude\"], row[\"Violation Longitude\"]\n",
    "\n",
    "        # Skip rows with bad coords\n",
    "        if (\n",
    "            pd.isna(v_lat) or pd.isna(v_lon) or\n",
    "            not (math.isfinite(v_lat) and math.isfinite(v_lon))\n",
    "        ):\n",
    "            continue\n",
    "\n",
    "        # Properties (convert everything to string to avoid JSON issues)\n",
    "        props = {col: str(row[col]) for col in [\n",
    "            \"Violation ID\",\n",
    "            \"Vehicle ID\",\n",
    "            \"First Occurrence\",\n",
    "            \"Last Occurrence\",\n",
    "            \"Violation Status\",\n",
    "            \"Violation Type\",\n",
    "            \"Bus Route ID\",\n",
    "            \"Stop ID\",\n",
    "            \"Stop Name\"\n",
    "        ] if col in row}\n",
    "\n",
    "        feature = {\n",
    "            \"type\": \"Feature\",\n",
    "            \"properties\": props,\n",
    "            \"geometry\": {\n",
    "                \"type\": \"Point\",\n",
    "                \"coordinates\": [float(v_lon), float(v_lat)]\n",
    "            }\n",
    "        }\n",
    "        features.append(feature)\n",
    "    except Exception as e:\n",
    "        print(f\"Skipping row due to error: {e}\")\n",
    "\n",
    "geojson = {\n",
    "    \"type\": \"FeatureCollection\",\n",
    "    \"features\": features\n",
    "}\n",
    "\n",
    "with open(\"/Users/danielbrown/Desktop/datathon_project/data/processed/violations.geojson\", \"w\", encoding=\"utf-8\") as f:\n",
    "    json.dump(geojson, f, indent=2, ensure_ascii=False)\n",
    "\n",
    "print(f\"✅ Saved {len(features)} point features to violations_points.geojson\")\n",
    "\n"
   ]
  },
  {
   "cell_type": "code",
   "execution_count": 5,
   "metadata": {},
   "outputs": [],
   "source": [
    "# Preview first 3 features\n",
    "preview = {\n",
    "    \"type\": \"FeatureCollection\",\n",
    "    \"features\": features[:3]\n",
    "}\n",
    "\n",
    "#print(json.dumps(preview, indent=2, ensure_ascii=False))\n"
   ]
  },
  {
   "cell_type": "code",
   "execution_count": null,
   "metadata": {},
   "outputs": [],
   "source": [
    "\n"
   ]
  },
  {
   "cell_type": "code",
   "execution_count": 34,
   "metadata": {},
   "outputs": [
    {
     "data": {
      "text/plain": [
       "'\\nPurpose\\nThis code processes MTA bus route segment speeds and converts them into a GeoJSON file \\nof line segments along each bus route, including aggregated speed and trip information. \\nThis is useful for mapping bus route performance in GIS tools like Kepler.gl or Mapbox.\\n'"
      ]
     },
     "execution_count": 34,
     "metadata": {},
     "output_type": "execute_result"
    }
   ],
   "source": [
    "#Bus Segment Speeds\n",
    "'''\n",
    "Purpose\n",
    "This code processes MTA bus route segment speeds and converts them into a GeoJSON file \n",
    "of line segments along each bus route, including aggregated speed and trip information. \n",
    "This is useful for mapping bus route performance in GIS tools like Kepler.gl or Mapbox.\n",
    "'''"
   ]
  },
  {
   "cell_type": "code",
   "execution_count": null,
   "metadata": {},
   "outputs": [],
   "source": []
  },
  {
   "cell_type": "code",
   "execution_count": 35,
   "metadata": {},
   "outputs": [],
   "source": [
    "# Path to data folder relative to the notebook\n",
    "DATA_DIR = os.path.join(\"..\", \"data\", \"raw\")"
   ]
  },
  {
   "cell_type": "code",
   "execution_count": 36,
   "metadata": {},
   "outputs": [],
   "source": [
    "segment_speed_2020_2024 = pd.read_csv(os.path.join(DATA_DIR, \"segment_speed_2023_2024.csv\"))\n",
    "segment_speed_2025 = pd.read_csv(os.path.join(DATA_DIR, \"segment_speed_2025.csv\"))\n",
    "# Concatenate vertically (stack rows)\n",
    "segment_speed_all = pd.concat([segment_speed_2020_2024, segment_speed_2025], ignore_index=True)\n",
    "\n",
    "# Optional: check the combined shape\n",
    "#print(segment_speed_all.shape)\n",
    "#print(segment_speed_all.head())\n",
    "df = segment_speed_all"
   ]
  },
  {
   "cell_type": "code",
   "execution_count": null,
   "metadata": {},
   "outputs": [],
   "source": []
  },
  {
   "cell_type": "code",
   "execution_count": null,
   "metadata": {},
   "outputs": [],
   "source": []
  },
  {
   "cell_type": "code",
   "execution_count": 9,
   "metadata": {},
   "outputs": [
    {
     "ename": "FileNotFoundError",
     "evalue": "[Errno 2] No such file or directory: '/Users/danielbrown/Desktop/MTA_Bus_Route_Segment_Speeds__Beginning_2025_20250920.csv'",
     "output_type": "error",
     "traceback": [
      "\u001b[31m---------------------------------------------------------------------------\u001b[39m",
      "\u001b[31mFileNotFoundError\u001b[39m                         Traceback (most recent call last)",
      "\u001b[36mCell\u001b[39m\u001b[36m \u001b[39m\u001b[32mIn[9]\u001b[39m\u001b[32m, line 12\u001b[39m\n\u001b[32m      9\u001b[39m trips = pd.read_csv(\u001b[33m\"\u001b[39m\u001b[33m/Users/danielbrown/Desktop/gtfs_bx-3/trips.txt\u001b[39m\u001b[33m\"\u001b[39m)\n\u001b[32m     11\u001b[39m \u001b[38;5;66;03m# --- 2. Load speeds ---\u001b[39;00m\n\u001b[32m---> \u001b[39m\u001b[32m12\u001b[39m speeds = \u001b[43mpd\u001b[49m\u001b[43m.\u001b[49m\u001b[43mread_csv\u001b[49m\u001b[43m(\u001b[49m\n\u001b[32m     13\u001b[39m \u001b[43m    \u001b[49m\u001b[33;43m\"\u001b[39;49m\u001b[33;43m/Users/danielbrown/Desktop/MTA_Bus_Route_Segment_Speeds__Beginning_2025_20250920.csv\u001b[39;49m\u001b[33;43m\"\u001b[39;49m\u001b[43m,\u001b[49m\n\u001b[32m     14\u001b[39m \u001b[43m    \u001b[49m\u001b[43mparse_dates\u001b[49m\u001b[43m=\u001b[49m\u001b[43m[\u001b[49m\u001b[33;43m\"\u001b[39;49m\u001b[33;43mTimestamp\u001b[39;49m\u001b[33;43m\"\u001b[39;49m\u001b[43m]\u001b[49m\n\u001b[32m     15\u001b[39m \u001b[43m)\u001b[49m\n\u001b[32m     17\u001b[39m \u001b[38;5;66;03m# --- 2b. Aggregate speeds by Next Timepoint Stop Name and Direction ---\u001b[39;00m\n\u001b[32m     18\u001b[39m agg_speeds = (\n\u001b[32m     19\u001b[39m     speeds.groupby([\u001b[33m\"\u001b[39m\u001b[33mNext Timepoint Stop Name\u001b[39m\u001b[33m\"\u001b[39m, \u001b[33m\"\u001b[39m\u001b[33mDirection\u001b[39m\u001b[33m\"\u001b[39m], as_index=\u001b[38;5;28;01mFalse\u001b[39;00m)\n\u001b[32m     20\u001b[39m     .agg(\n\u001b[32m   (...)\u001b[39m\u001b[32m     28\u001b[39m     )\n\u001b[32m     29\u001b[39m )\n",
      "\u001b[36mFile \u001b[39m\u001b[32m~/Desktop/datathon_project/venv/lib/python3.13/site-packages/pandas/io/parsers/readers.py:1026\u001b[39m, in \u001b[36mread_csv\u001b[39m\u001b[34m(filepath_or_buffer, sep, delimiter, header, names, index_col, usecols, dtype, engine, converters, true_values, false_values, skipinitialspace, skiprows, skipfooter, nrows, na_values, keep_default_na, na_filter, verbose, skip_blank_lines, parse_dates, infer_datetime_format, keep_date_col, date_parser, date_format, dayfirst, cache_dates, iterator, chunksize, compression, thousands, decimal, lineterminator, quotechar, quoting, doublequote, escapechar, comment, encoding, encoding_errors, dialect, on_bad_lines, delim_whitespace, low_memory, memory_map, float_precision, storage_options, dtype_backend)\u001b[39m\n\u001b[32m   1013\u001b[39m kwds_defaults = _refine_defaults_read(\n\u001b[32m   1014\u001b[39m     dialect,\n\u001b[32m   1015\u001b[39m     delimiter,\n\u001b[32m   (...)\u001b[39m\u001b[32m   1022\u001b[39m     dtype_backend=dtype_backend,\n\u001b[32m   1023\u001b[39m )\n\u001b[32m   1024\u001b[39m kwds.update(kwds_defaults)\n\u001b[32m-> \u001b[39m\u001b[32m1026\u001b[39m \u001b[38;5;28;01mreturn\u001b[39;00m \u001b[43m_read\u001b[49m\u001b[43m(\u001b[49m\u001b[43mfilepath_or_buffer\u001b[49m\u001b[43m,\u001b[49m\u001b[43m \u001b[49m\u001b[43mkwds\u001b[49m\u001b[43m)\u001b[49m\n",
      "\u001b[36mFile \u001b[39m\u001b[32m~/Desktop/datathon_project/venv/lib/python3.13/site-packages/pandas/io/parsers/readers.py:620\u001b[39m, in \u001b[36m_read\u001b[39m\u001b[34m(filepath_or_buffer, kwds)\u001b[39m\n\u001b[32m    617\u001b[39m _validate_names(kwds.get(\u001b[33m\"\u001b[39m\u001b[33mnames\u001b[39m\u001b[33m\"\u001b[39m, \u001b[38;5;28;01mNone\u001b[39;00m))\n\u001b[32m    619\u001b[39m \u001b[38;5;66;03m# Create the parser.\u001b[39;00m\n\u001b[32m--> \u001b[39m\u001b[32m620\u001b[39m parser = \u001b[43mTextFileReader\u001b[49m\u001b[43m(\u001b[49m\u001b[43mfilepath_or_buffer\u001b[49m\u001b[43m,\u001b[49m\u001b[43m \u001b[49m\u001b[43m*\u001b[49m\u001b[43m*\u001b[49m\u001b[43mkwds\u001b[49m\u001b[43m)\u001b[49m\n\u001b[32m    622\u001b[39m \u001b[38;5;28;01mif\u001b[39;00m chunksize \u001b[38;5;129;01mor\u001b[39;00m iterator:\n\u001b[32m    623\u001b[39m     \u001b[38;5;28;01mreturn\u001b[39;00m parser\n",
      "\u001b[36mFile \u001b[39m\u001b[32m~/Desktop/datathon_project/venv/lib/python3.13/site-packages/pandas/io/parsers/readers.py:1620\u001b[39m, in \u001b[36mTextFileReader.__init__\u001b[39m\u001b[34m(self, f, engine, **kwds)\u001b[39m\n\u001b[32m   1617\u001b[39m     \u001b[38;5;28mself\u001b[39m.options[\u001b[33m\"\u001b[39m\u001b[33mhas_index_names\u001b[39m\u001b[33m\"\u001b[39m] = kwds[\u001b[33m\"\u001b[39m\u001b[33mhas_index_names\u001b[39m\u001b[33m\"\u001b[39m]\n\u001b[32m   1619\u001b[39m \u001b[38;5;28mself\u001b[39m.handles: IOHandles | \u001b[38;5;28;01mNone\u001b[39;00m = \u001b[38;5;28;01mNone\u001b[39;00m\n\u001b[32m-> \u001b[39m\u001b[32m1620\u001b[39m \u001b[38;5;28mself\u001b[39m._engine = \u001b[38;5;28;43mself\u001b[39;49m\u001b[43m.\u001b[49m\u001b[43m_make_engine\u001b[49m\u001b[43m(\u001b[49m\u001b[43mf\u001b[49m\u001b[43m,\u001b[49m\u001b[43m \u001b[49m\u001b[38;5;28;43mself\u001b[39;49m\u001b[43m.\u001b[49m\u001b[43mengine\u001b[49m\u001b[43m)\u001b[49m\n",
      "\u001b[36mFile \u001b[39m\u001b[32m~/Desktop/datathon_project/venv/lib/python3.13/site-packages/pandas/io/parsers/readers.py:1880\u001b[39m, in \u001b[36mTextFileReader._make_engine\u001b[39m\u001b[34m(self, f, engine)\u001b[39m\n\u001b[32m   1878\u001b[39m     \u001b[38;5;28;01mif\u001b[39;00m \u001b[33m\"\u001b[39m\u001b[33mb\u001b[39m\u001b[33m\"\u001b[39m \u001b[38;5;129;01mnot\u001b[39;00m \u001b[38;5;129;01min\u001b[39;00m mode:\n\u001b[32m   1879\u001b[39m         mode += \u001b[33m\"\u001b[39m\u001b[33mb\u001b[39m\u001b[33m\"\u001b[39m\n\u001b[32m-> \u001b[39m\u001b[32m1880\u001b[39m \u001b[38;5;28mself\u001b[39m.handles = \u001b[43mget_handle\u001b[49m\u001b[43m(\u001b[49m\n\u001b[32m   1881\u001b[39m \u001b[43m    \u001b[49m\u001b[43mf\u001b[49m\u001b[43m,\u001b[49m\n\u001b[32m   1882\u001b[39m \u001b[43m    \u001b[49m\u001b[43mmode\u001b[49m\u001b[43m,\u001b[49m\n\u001b[32m   1883\u001b[39m \u001b[43m    \u001b[49m\u001b[43mencoding\u001b[49m\u001b[43m=\u001b[49m\u001b[38;5;28;43mself\u001b[39;49m\u001b[43m.\u001b[49m\u001b[43moptions\u001b[49m\u001b[43m.\u001b[49m\u001b[43mget\u001b[49m\u001b[43m(\u001b[49m\u001b[33;43m\"\u001b[39;49m\u001b[33;43mencoding\u001b[39;49m\u001b[33;43m\"\u001b[39;49m\u001b[43m,\u001b[49m\u001b[43m \u001b[49m\u001b[38;5;28;43;01mNone\u001b[39;49;00m\u001b[43m)\u001b[49m\u001b[43m,\u001b[49m\n\u001b[32m   1884\u001b[39m \u001b[43m    \u001b[49m\u001b[43mcompression\u001b[49m\u001b[43m=\u001b[49m\u001b[38;5;28;43mself\u001b[39;49m\u001b[43m.\u001b[49m\u001b[43moptions\u001b[49m\u001b[43m.\u001b[49m\u001b[43mget\u001b[49m\u001b[43m(\u001b[49m\u001b[33;43m\"\u001b[39;49m\u001b[33;43mcompression\u001b[39;49m\u001b[33;43m\"\u001b[39;49m\u001b[43m,\u001b[49m\u001b[43m \u001b[49m\u001b[38;5;28;43;01mNone\u001b[39;49;00m\u001b[43m)\u001b[49m\u001b[43m,\u001b[49m\n\u001b[32m   1885\u001b[39m \u001b[43m    \u001b[49m\u001b[43mmemory_map\u001b[49m\u001b[43m=\u001b[49m\u001b[38;5;28;43mself\u001b[39;49m\u001b[43m.\u001b[49m\u001b[43moptions\u001b[49m\u001b[43m.\u001b[49m\u001b[43mget\u001b[49m\u001b[43m(\u001b[49m\u001b[33;43m\"\u001b[39;49m\u001b[33;43mmemory_map\u001b[39;49m\u001b[33;43m\"\u001b[39;49m\u001b[43m,\u001b[49m\u001b[43m \u001b[49m\u001b[38;5;28;43;01mFalse\u001b[39;49;00m\u001b[43m)\u001b[49m\u001b[43m,\u001b[49m\n\u001b[32m   1886\u001b[39m \u001b[43m    \u001b[49m\u001b[43mis_text\u001b[49m\u001b[43m=\u001b[49m\u001b[43mis_text\u001b[49m\u001b[43m,\u001b[49m\n\u001b[32m   1887\u001b[39m \u001b[43m    \u001b[49m\u001b[43merrors\u001b[49m\u001b[43m=\u001b[49m\u001b[38;5;28;43mself\u001b[39;49m\u001b[43m.\u001b[49m\u001b[43moptions\u001b[49m\u001b[43m.\u001b[49m\u001b[43mget\u001b[49m\u001b[43m(\u001b[49m\u001b[33;43m\"\u001b[39;49m\u001b[33;43mencoding_errors\u001b[39;49m\u001b[33;43m\"\u001b[39;49m\u001b[43m,\u001b[49m\u001b[43m \u001b[49m\u001b[33;43m\"\u001b[39;49m\u001b[33;43mstrict\u001b[39;49m\u001b[33;43m\"\u001b[39;49m\u001b[43m)\u001b[49m\u001b[43m,\u001b[49m\n\u001b[32m   1888\u001b[39m \u001b[43m    \u001b[49m\u001b[43mstorage_options\u001b[49m\u001b[43m=\u001b[49m\u001b[38;5;28;43mself\u001b[39;49m\u001b[43m.\u001b[49m\u001b[43moptions\u001b[49m\u001b[43m.\u001b[49m\u001b[43mget\u001b[49m\u001b[43m(\u001b[49m\u001b[33;43m\"\u001b[39;49m\u001b[33;43mstorage_options\u001b[39;49m\u001b[33;43m\"\u001b[39;49m\u001b[43m,\u001b[49m\u001b[43m \u001b[49m\u001b[38;5;28;43;01mNone\u001b[39;49;00m\u001b[43m)\u001b[49m\u001b[43m,\u001b[49m\n\u001b[32m   1889\u001b[39m \u001b[43m\u001b[49m\u001b[43m)\u001b[49m\n\u001b[32m   1890\u001b[39m \u001b[38;5;28;01massert\u001b[39;00m \u001b[38;5;28mself\u001b[39m.handles \u001b[38;5;129;01mis\u001b[39;00m \u001b[38;5;129;01mnot\u001b[39;00m \u001b[38;5;28;01mNone\u001b[39;00m\n\u001b[32m   1891\u001b[39m f = \u001b[38;5;28mself\u001b[39m.handles.handle\n",
      "\u001b[36mFile \u001b[39m\u001b[32m~/Desktop/datathon_project/venv/lib/python3.13/site-packages/pandas/io/common.py:873\u001b[39m, in \u001b[36mget_handle\u001b[39m\u001b[34m(path_or_buf, mode, encoding, compression, memory_map, is_text, errors, storage_options)\u001b[39m\n\u001b[32m    868\u001b[39m \u001b[38;5;28;01melif\u001b[39;00m \u001b[38;5;28misinstance\u001b[39m(handle, \u001b[38;5;28mstr\u001b[39m):\n\u001b[32m    869\u001b[39m     \u001b[38;5;66;03m# Check whether the filename is to be opened in binary mode.\u001b[39;00m\n\u001b[32m    870\u001b[39m     \u001b[38;5;66;03m# Binary mode does not support 'encoding' and 'newline'.\u001b[39;00m\n\u001b[32m    871\u001b[39m     \u001b[38;5;28;01mif\u001b[39;00m ioargs.encoding \u001b[38;5;129;01mand\u001b[39;00m \u001b[33m\"\u001b[39m\u001b[33mb\u001b[39m\u001b[33m\"\u001b[39m \u001b[38;5;129;01mnot\u001b[39;00m \u001b[38;5;129;01min\u001b[39;00m ioargs.mode:\n\u001b[32m    872\u001b[39m         \u001b[38;5;66;03m# Encoding\u001b[39;00m\n\u001b[32m--> \u001b[39m\u001b[32m873\u001b[39m         handle = \u001b[38;5;28;43mopen\u001b[39;49m\u001b[43m(\u001b[49m\n\u001b[32m    874\u001b[39m \u001b[43m            \u001b[49m\u001b[43mhandle\u001b[49m\u001b[43m,\u001b[49m\n\u001b[32m    875\u001b[39m \u001b[43m            \u001b[49m\u001b[43mioargs\u001b[49m\u001b[43m.\u001b[49m\u001b[43mmode\u001b[49m\u001b[43m,\u001b[49m\n\u001b[32m    876\u001b[39m \u001b[43m            \u001b[49m\u001b[43mencoding\u001b[49m\u001b[43m=\u001b[49m\u001b[43mioargs\u001b[49m\u001b[43m.\u001b[49m\u001b[43mencoding\u001b[49m\u001b[43m,\u001b[49m\n\u001b[32m    877\u001b[39m \u001b[43m            \u001b[49m\u001b[43merrors\u001b[49m\u001b[43m=\u001b[49m\u001b[43merrors\u001b[49m\u001b[43m,\u001b[49m\n\u001b[32m    878\u001b[39m \u001b[43m            \u001b[49m\u001b[43mnewline\u001b[49m\u001b[43m=\u001b[49m\u001b[33;43m\"\u001b[39;49m\u001b[33;43m\"\u001b[39;49m\u001b[43m,\u001b[49m\n\u001b[32m    879\u001b[39m \u001b[43m        \u001b[49m\u001b[43m)\u001b[49m\n\u001b[32m    880\u001b[39m     \u001b[38;5;28;01melse\u001b[39;00m:\n\u001b[32m    881\u001b[39m         \u001b[38;5;66;03m# Binary mode\u001b[39;00m\n\u001b[32m    882\u001b[39m         handle = \u001b[38;5;28mopen\u001b[39m(handle, ioargs.mode)\n",
      "\u001b[31mFileNotFoundError\u001b[39m: [Errno 2] No such file or directory: '/Users/danielbrown/Desktop/MTA_Bus_Route_Segment_Speeds__Beginning_2025_20250920.csv'"
     ]
    }
   ],
   "source": [
    "import pandas as pd\n",
    "import json\n",
    "from math import radians, sin, cos, sqrt, atan2\n",
    "\n",
    "# --- 1. Load GTFS shapes and trips ---\n",
    "shapes = pd.read_csv(\"/Users/danielbrown/Desktop/gtfs_bx-3/shapes.txt\")\n",
    "shapes = shapes.sort_values([\"shape_id\", \"shape_pt_sequence\"])\n",
    "\n",
    "trips = pd.read_csv(\"/Users/danielbrown/Desktop/gtfs_bx-3/trips.txt\")\n",
    "\n",
    "# --- 2. Load speeds ---\n",
    "speeds = pd.read_csv(\n",
    "    \"/Users/danielbrown/Desktop/MTA_Bus_Route_Segment_Speeds__Beginning_2025_20250920.csv\",\n",
    "    parse_dates=[\"Timestamp\"]\n",
    ")\n",
    "\n",
    "# --- 2b. Aggregate speeds by Next Timepoint Stop Name and Direction ---\n",
    "agg_speeds = (\n",
    "    speeds.groupby([\"Next Timepoint Stop Name\", \"Direction\"], as_index=False)\n",
    "    .agg(\n",
    "        avg_speed=(\"Average Road Speed\", \"mean\"),\n",
    "        total_trips=(\"Bus Trip Count\", \"sum\"),\n",
    "        start_lat=(\"Timepoint Stop Latitude\", \"first\"),\n",
    "        start_lon=(\"Timepoint Stop Longitude\", \"first\"),\n",
    "        end_lat=(\"Next Timepoint Stop Latitude\", \"first\"),\n",
    "        end_lon=(\"Next Timepoint Stop Longitude\", \"first\"),\n",
    "        route_id=(\"Route ID\", \"first\")\n",
    "    )\n",
    ")\n",
    "\n",
    "# --- 2c. Map directions and add segment numbers ---\n",
    "dir_map = {'W': 0, 'E': 1}  # adjust if needed\n",
    "agg_speeds['direction_id'] = agg_speeds['Direction'].map(dir_map)\n",
    "\n",
    "# Number segments within each route + direction\n",
    "agg_speeds = agg_speeds.sort_values([\"route_id\", \"direction_id\"])\n",
    "agg_speeds[\"segment_number\"] = (\n",
    "    agg_speeds.groupby([\"route_id\", \"direction_id\"]).cumcount() + 1\n",
    ")\n",
    "\n",
    "# --- 3. Helper functions ---\n",
    "def haversine(lat1, lon1, lat2, lon2):\n",
    "    R = 6371e3\n",
    "    phi1, phi2 = radians(lat1), radians(lat2)\n",
    "    dphi, dlambda = radians(lat2 - lat1), radians(lon2 - lon1)\n",
    "    a = sin(dphi/2)**2 + cos(phi1) * cos(phi2) * sin(dlambda/2)**2\n",
    "    return 2 * R * atan2(sqrt(a), sqrt(1 - a))\n",
    "\n",
    "def closest_index(lat, lon, coords):\n",
    "    return min(range(len(coords)), key=lambda i: haversine(lat, lon, coords[i][1], coords[i][0]))\n",
    "\n",
    "# --- 4. Map route+direction to shape_id ---\n",
    "direction_map = trips.groupby(['route_id', 'direction_id'])['shape_id'].first().to_dict()\n",
    "\n",
    "# --- 5. Build GeoJSON ---\n",
    "features = []\n",
    "\n",
    "for _, row in agg_speeds.iterrows():\n",
    "    route_dir_key = (row[\"route_id\"], row[\"direction_id\"])\n",
    "    if route_dir_key not in direction_map:\n",
    "        continue\n",
    "    shape_id = direction_map[route_dir_key]\n",
    "    route_shape = shapes[shapes[\"shape_id\"] == shape_id]\n",
    "    shape_coords = list(zip(route_shape[\"shape_pt_lon\"], route_shape[\"shape_pt_lat\"]))\n",
    "\n",
    "    # Find indices along shape for stop and next stop\n",
    "    i1 = closest_index(row[\"start_lat\"], row[\"start_lon\"], shape_coords)\n",
    "    i2 = closest_index(row[\"end_lat\"], row[\"end_lon\"], shape_coords)\n",
    "    if i1 > i2:\n",
    "        i1, i2 = i2, i1\n",
    "\n",
    "    # Fallback if points are the same\n",
    "    if i1 == i2:\n",
    "        segment_coords = [(row[\"start_lon\"], row[\"start_lat\"]), (row[\"end_lon\"], row[\"end_lat\"])]\n",
    "    else:\n",
    "        segment_coords = shape_coords[i1:i2+1]\n",
    "\n",
    "    features.append({\n",
    "        \"type\": \"Feature\",\n",
    "        \"geometry\": {\"type\": \"LineString\", \"coordinates\": segment_coords},\n",
    "        \"properties\": {\n",
    "            \"route_id\": row[\"route_id\"],\n",
    "            \"direction\": row[\"Direction\"],\n",
    "            \"segment_number\": int(row[\"segment_number\"]),\n",
    "            \"speed\": row[\"avg_speed\"],\n",
    "            \"trips\": row[\"total_trips\"]\n",
    "        }\n",
    "    })\n",
    "\n",
    "geojson = {\"type\": \"FeatureCollection\", \"features\": features}\n",
    "\n",
    "with open(\"/Users/danielbrown/Desktop/bx12_speeds_shapes_directions_agg_1.geojson\", \"w\") as f:\n",
    "    json.dump(geojson, f)\n",
    "\n",
    "print(f\"GeoJSON created with {len(features)} features\")\n"
   ]
  },
  {
   "cell_type": "code",
   "execution_count": null,
   "metadata": {},
   "outputs": [],
   "source": []
  },
  {
   "cell_type": "code",
   "execution_count": null,
   "metadata": {},
   "outputs": [],
   "source": [
    "#Visualizing communities around bus routes\n",
    "'''\n",
    "Purpose\n",
    "This script processes median household income data for NYC neighborhoods and merges \n",
    "it with CDTA (Community District Tabulation Areas) geometries, preparing a clean dataset \n",
    "suitable for mapping and spatial analysis.\n",
    "'''"
   ]
  },
  {
   "cell_type": "code",
   "execution_count": null,
   "metadata": {},
   "outputs": [],
   "source": [
    "import pandas as pd\n",
    "\n",
    "# File paths\n",
    "median_income_fp = '/Users/danielbrown/Desktop/Median_Incomes - Sheet1.csv'\n",
    "cdta_fp = '/Users/danielbrown/Desktop/2020_Community_District_Tabulation_Areas__CDTAs__20250920.csv'\n",
    "\n",
    "# Load CSVs\n",
    "median_income_df = pd.read_csv(median_income_fp)\n",
    "cdta_df = pd.read_csv(cdta_fp)\n",
    "\n",
    "# Quick check\n",
    "# Check columns\n",
    "print(\"Median Income Columns:\\n\", median_income_df.columns, \"\\n\")\n",
    "print(\"CDTA Columns:\\n\", cdta_df.columns, \"\\n\")\n",
    "\n",
    "# Get the size of the dataframe\n",
    "rows, cols = cdta_df.shape\n",
    "print(f\"Merged DataFrame size: {rows} rows x {cols} columns\")\n"
   ]
  },
  {
   "cell_type": "code",
   "execution_count": null,
   "metadata": {},
   "outputs": [],
   "source": [
    "# Step 1: Extract the code in parentheses\n",
    "median_income_df['Code'] = median_income_df['Location'].str.extract(r'\\((.*?)\\)')\n",
    "\n",
    "# Step 2: Replace letters only (prefix replacements)\n",
    "letter_map = {\n",
    "    \"K\": \"BK\",\n",
    "    \"S\": \"SI\",\n",
    "    \"Q\": \"QN\",\n",
    "    \"B\": \"BX\",\n",
    "    \"M\": \"MN\"\n",
    "}\n",
    "\n",
    "# Function to replace letters while keeping numbers\n",
    "def replace_prefix(code):\n",
    "    if pd.isna(code):\n",
    "        return code\n",
    "    for old, new in letter_map.items():\n",
    "        if code.startswith(old):\n",
    "            return new + code[len(old):]\n",
    "    return code  # leave as-is if no match\n",
    "\n",
    "median_income_df['Code'] = median_income_df['Code'].apply(replace_prefix)\n",
    "\n",
    "# Optional: check first few rows\n",
    "print(median_income_df.head())\n",
    "\n",
    "# Get the size of the dataframe\n",
    "rows, cols = median_income_df.shape\n",
    "print(f\"Merged DataFrame size: {rows} rows x {cols} columns\")\n",
    "\n",
    "# Step 3: Export to CSV\n",
    "#output_fp = '/Users/danielbrown/Desktop/median_income_with_codes.csv'\n",
    "#median_income_df.to_csv(output_fp, index=False)\n",
    "#print(f\"Saved updated CSV to {output_fp}\")\n",
    "#print(\"Median Income Columns:\\n\", median_income_df.columns, \"\\n\")"
   ]
  },
  {
   "cell_type": "code",
   "execution_count": null,
   "metadata": {},
   "outputs": [],
   "source": [
    "# Inner join on Code -> CDTA2020\n",
    "merged_df = median_income_df.merge(\n",
    "    cdta_df,\n",
    "    left_on='Code',\n",
    "    right_on='CDTA2020',\n",
    "    how='left'\n",
    ")\n",
    "\n",
    "# Sort the DataFrame by 'Code'\n",
    "merged_df = merged_df.sort_values(by='Code').reset_index(drop=True)\n",
    "\n",
    "merged_df = merged_df[['Location','All Households','Families','Families with Children','Families without Children','Code','the_geom']]\n",
    "\n",
    "# Step 1: Strip $ and commas from income columns and convert to numeric\n",
    "income_cols = ['All Households', 'Families', 'Families with Children', 'Families without Children']\n",
    "for col in income_cols:\n",
    "    merged_df[col] = merged_df[col].replace('[\\$,]', '', regex=True).astype(float)\n",
    "\n",
    "# Step 2: Ensure string columns\n",
    "string_cols = ['Location', 'Code', 'the_geom']\n",
    "for col in string_cols:\n",
    "    merged_df[col] = merged_df[col].astype(str)\n",
    "\n",
    "# Quick check\n",
    "print(merged_df.head())\n",
    "print(merged_df.columns)\n",
    "# Get the size of the dataframe\n",
    "rows, cols = merged_df.shape\n",
    "print(f\"Merged DataFrame size: {rows} rows x {cols} columns\")\n",
    "\n",
    "# Optional: export to CSV\n",
    "output_fp = '/Users/danielbrown/Desktop/median_income_cdta_merged.csv'\n",
    "merged_df.to_csv(output_fp, index=False)\n",
    "print(f\"Saved merged CSV to {output_fp}\")"
   ]
  },
  {
   "cell_type": "code",
   "execution_count": null,
   "metadata": {},
   "outputs": [],
   "source": []
  },
  {
   "cell_type": "code",
   "execution_count": null,
   "metadata": {},
   "outputs": [],
   "source": [
    "#Census Tract Data and Commute Times"
   ]
  },
  {
   "cell_type": "code",
   "execution_count": 37,
   "metadata": {},
   "outputs": [
    {
     "name": "stdout",
     "output_type": "stream",
     "text": [
      "Merged DataFrame shape: (2325, 14)\n"
     ]
    }
   ],
   "source": [
    "import pandas as pd\n",
    "import os\n",
    "\n",
    "# Path to data folder relative to the notebook\n",
    "DATA_DIR = os.path.join(\"..\", \"data\", \"raw\")\n",
    "travel_time_df = pd.read_csv(os.path.join(DATA_DIR, \"NTAD_Travel_Time _Work.csv\"))\n",
    "census_tracts_df = pd.read_csv(os.path.join(DATA_DIR, \"2020_Census_Tracts_20250921.csv\"))\n",
    "\n",
    "\n",
    "# Quick check of column names\n",
    "#print(\"Travel Time Columns:\", travel_time_df.columns.tolist())\n",
    "#print(\"Census Tracts Columns:\", census_tracts_df.columns.tolist())\n",
    "\n",
    "# Show quick preview + shape\n",
    "#print(travel_time_df.head())\n",
    "#print(f\"Merged DataFrame shape: {travel_time_df.shape}\")\n",
    "\n",
    "#print(census_tracts_df.head())\n",
    "print(f\"Merged DataFrame shape: {census_tracts_df.shape}\")"
   ]
  },
  {
   "cell_type": "code",
   "execution_count": 38,
   "metadata": {},
   "outputs": [],
   "source": [
    "travel_time_df['% of workers with 45+ minutes commute'] = travel_time_df['% of workers with commute of 45 to 59 minutes'] + travel_time_df['% of workers with commute of 60 to 89 minutes'] + travel_time_df['% of workers with commute of 90 or more minutes']\n",
    "\n",
    "\n"
   ]
  },
  {
   "cell_type": "code",
   "execution_count": null,
   "metadata": {},
   "outputs": [],
   "source": []
  },
  {
   "cell_type": "code",
   "execution_count": 39,
   "metadata": {},
   "outputs": [
    {
     "name": "stdout",
     "output_type": "stream",
     "text": [
      "                                             NTAName  CTLabel  \\\n",
      "0  The Battery-Governors Island-Ellis Island-Libe...     1.00   \n",
      "1  The Battery-Governors Island-Ellis Island-Libe...     1.00   \n",
      "2  The Battery-Governors Island-Ellis Island-Libe...     1.00   \n",
      "3  The Battery-Governors Island-Ellis Island-Libe...     1.00   \n",
      "4                                    Lower East Side    14.01   \n",
      "\n",
      "   % of workers with 45+ minutes commute  \\\n",
      "0                                  16.36   \n",
      "1                                  13.59   \n",
      "2                                    NaN   \n",
      "3                                    NaN   \n",
      "4                                  33.86   \n",
      "\n",
      "                                            the_geom  \n",
      "0  MULTIPOLYGON (((-74.04387761639944 40.69018767...  \n",
      "1  MULTIPOLYGON (((-74.04387761639944 40.69018767...  \n",
      "2  MULTIPOLYGON (((-74.04387761639944 40.69018767...  \n",
      "3  MULTIPOLYGON (((-74.04387761639944 40.69018767...  \n",
      "4  MULTIPOLYGON (((-73.9883662631772 40.716445702...  \n",
      "Merged DataFrame shape: (6183, 4)\n"
     ]
    }
   ],
   "source": [
    "# Left join: keep all census tracts (CTLabel), bring in matching travel times (TRACTID)\n",
    "merged_df = census_tracts_df.merge(\n",
    "    travel_time_df,\n",
    "    how=\"left\",\n",
    "    left_on=\"CTLabel\",\n",
    "    right_on=\"TRACTID\"\n",
    ")\n",
    "\n",
    "# Reset index for cleanliness\n",
    "merged_df = merged_df.reset_index(drop=True)\n",
    "\n",
    "merged_df = merged_df[['NTAName','CTLabel','% of workers with 45+ minutes commute','the_geom']]\n",
    "\n",
    "# Show quick preview + shape\n",
    "print(merged_df.head())\n",
    "print(f\"Merged DataFrame shape: {merged_df.shape}\")\n",
    "\n",
    "\n",
    "# Get the absolute path to the project root\n",
    "project_root = os.path.abspath(os.path.join(os.getcwd(), \"..\"))\n",
    "\n",
    "# Construct the full path to the output file\n",
    "output_path = os.path.join(project_root, \"data\", \"processed\", \"census_merged_df.csv\")\n",
    "\n",
    "# Save the CSV\n",
    "merged_df.to_csv(output_path, index=False)\n"
   ]
  },
  {
   "cell_type": "code",
   "execution_count": null,
   "metadata": {},
   "outputs": [],
   "source": []
  },
  {
   "cell_type": "code",
   "execution_count": null,
   "metadata": {},
   "outputs": [],
   "source": []
  },
  {
   "cell_type": "code",
   "execution_count": null,
   "metadata": {},
   "outputs": [],
   "source": []
  },
  {
   "cell_type": "code",
   "execution_count": null,
   "metadata": {},
   "outputs": [],
   "source": []
  },
  {
   "cell_type": "code",
   "execution_count": null,
   "metadata": {},
   "outputs": [],
   "source": []
  },
  {
   "cell_type": "code",
   "execution_count": null,
   "metadata": {},
   "outputs": [],
   "source": []
  },
  {
   "cell_type": "code",
   "execution_count": null,
   "metadata": {},
   "outputs": [],
   "source": []
  },
  {
   "cell_type": "code",
   "execution_count": null,
   "metadata": {},
   "outputs": [],
   "source": []
  },
  {
   "cell_type": "code",
   "execution_count": null,
   "metadata": {},
   "outputs": [],
   "source": []
  },
  {
   "cell_type": "code",
   "execution_count": null,
   "metadata": {},
   "outputs": [],
   "source": []
  }
 ],
 "metadata": {
  "kernelspec": {
   "display_name": "Python (datathon_env)",
   "language": "python",
   "name": "datathon_env"
  },
  "language_info": {
   "codemirror_mode": {
    "name": "ipython",
    "version": 3
   },
   "file_extension": ".py",
   "mimetype": "text/x-python",
   "name": "python",
   "nbconvert_exporter": "python",
   "pygments_lexer": "ipython3",
   "version": "3.13.3"
  }
 },
 "nbformat": 4,
 "nbformat_minor": 4
}
