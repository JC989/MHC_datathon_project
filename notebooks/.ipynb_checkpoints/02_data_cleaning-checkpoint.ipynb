{
 "cells": [
  {
   "cell_type": "code",
   "execution_count": 53,
   "metadata": {},
   "outputs": [],
   "source": [
    "#Hello"
   ]
  },
  {
   "cell_type": "code",
   "execution_count": 58,
   "metadata": {},
   "outputs": [],
   "source": [
    "#Import Libraries\n",
    "import pandas as pd\n",
    "import os"
   ]
  },
  {
   "cell_type": "code",
   "execution_count": 59,
   "metadata": {},
   "outputs": [],
   "source": [
    "# Path to data folder relative to the notebook\n",
    "DATA_DIR = os.path.join(\"..\", \"data\", \"raw\")\n",
    "ace_violations = pd.read_csv(os.path.join(DATA_DIR, \"ACE_violations.csv\"))\n",
    "#ace_violations.head()"
   ]
  },
  {
   "cell_type": "code",
   "execution_count": null,
   "metadata": {},
   "outputs": [],
   "source": [
    "import json\n",
    "import math\n",
    "\n",
    "features = []\n",
    "\n",
    "for _, row in ace_violations.iterrows():\n",
    "    try:\n",
    "        v_lat, v_lon = row[\"Violation Latitude\"], row[\"Violation Longitude\"]\n",
    "\n",
    "        # Skip rows with bad coords\n",
    "        if (\n",
    "            pd.isna(v_lat) or pd.isna(v_lon) or\n",
    "            not (math.isfinite(v_lat) and math.isfinite(v_lon))\n",
    "        ):\n",
    "            continue\n",
    "\n",
    "        # Properties (convert everything to string to avoid JSON issues)\n",
    "        props = {col: str(row[col]) for col in [\n",
    "            \"Violation ID\",\n",
    "            \"Vehicle ID\",\n",
    "            \"First Occurrence\",\n",
    "            \"Last Occurrence\",\n",
    "            \"Violation Status\",\n",
    "            \"Violation Type\",\n",
    "            \"Bus Route ID\",\n",
    "            \"Stop ID\",\n",
    "            \"Stop Name\"\n",
    "        ] if col in row}\n",
    "\n",
    "        feature = {\n",
    "            \"type\": \"Feature\",\n",
    "            \"properties\": props,\n",
    "            \"geometry\": {\n",
    "                \"type\": \"Point\",\n",
    "                \"coordinates\": [float(v_lon), float(v_lat)]\n",
    "            }\n",
    "        }\n",
    "        features.append(feature)\n",
    "    except Exception as e:\n",
    "        print(f\"Skipping row due to error: {e}\")\n",
    "\n",
    "geojson = {\n",
    "    \"type\": \"FeatureCollection\",\n",
    "    \"features\": features\n",
    "}\n",
    "\n",
    "with open(\"/Users/danielbrown/Desktop/datathon_project/data/processed/violations.geojson\", \"w\", encoding=\"utf-8\") as f:\n",
    "    json.dump(geojson, f, indent=2, ensure_ascii=False)\n",
    "\n",
    "print(f\"✅ Saved {len(features)} point features to violations_points.geojson\")\n",
    "\n"
   ]
  },
  {
   "cell_type": "code",
   "execution_count": null,
   "metadata": {},
   "outputs": [],
   "source": [
    "# Preview first 3 features\n",
    "preview = {\n",
    "    \"type\": \"FeatureCollection\",\n",
    "    \"features\": features[:3]\n",
    "}\n",
    "\n",
    "#print(json.dumps(preview, indent=2, ensure_ascii=False))\n"
   ]
  },
  {
   "cell_type": "code",
   "execution_count": null,
   "metadata": {},
   "outputs": [],
   "source": [
    "\n"
   ]
  },
  {
   "cell_type": "code",
   "execution_count": null,
   "metadata": {},
   "outputs": [],
   "source": [
    "#Bus Speeds"
   ]
  },
  {
   "cell_type": "code",
   "execution_count": null,
   "metadata": {},
   "outputs": [],
   "source": [
    "#data/raw/bus_speed_2020_2024.csv\n",
    "#data/raw/bus_speed_2025.csv"
   ]
  },
  {
   "cell_type": "code",
   "execution_count": 4,
   "metadata": {},
   "outputs": [],
   "source": [
    "# Path to data folder relative to the notebook\n",
    "DATA_DIR = os.path.join(\"..\", \"data\", \"raw\")"
   ]
  },
  {
   "cell_type": "code",
   "execution_count": 5,
   "metadata": {},
   "outputs": [],
   "source": [
    "bus_speed_2020_2024 = pd.read_csv(os.path.join(DATA_DIR, \"bus_speed_2020_2024.csv\"))\n",
    "bus_speed_2025 = pd.read_csv(os.path.join(DATA_DIR, \"bus_speed_2025.csv\"))"
   ]
  },
  {
   "cell_type": "code",
   "execution_count": null,
   "metadata": {},
   "outputs": [],
   "source": []
  },
  {
   "cell_type": "code",
   "execution_count": null,
   "metadata": {},
   "outputs": [],
   "source": []
  },
  {
   "cell_type": "code",
   "execution_count": null,
   "metadata": {},
   "outputs": [],
   "source": []
  },
  {
   "cell_type": "code",
   "execution_count": null,
   "metadata": {},
   "outputs": [],
   "source": []
  },
  {
   "cell_type": "code",
   "execution_count": null,
   "metadata": {},
   "outputs": [],
   "source": []
  },
  {
   "cell_type": "code",
   "execution_count": null,
   "metadata": {},
   "outputs": [],
   "source": []
  },
  {
   "cell_type": "code",
   "execution_count": null,
   "metadata": {},
   "outputs": [],
   "source": []
  },
  {
   "cell_type": "code",
   "execution_count": null,
   "metadata": {},
   "outputs": [],
   "source": []
  },
  {
   "cell_type": "code",
   "execution_count": null,
   "metadata": {},
   "outputs": [],
   "source": []
  },
  {
   "cell_type": "code",
   "execution_count": null,
   "metadata": {},
   "outputs": [],
   "source": []
  },
  {
   "cell_type": "code",
   "execution_count": null,
   "metadata": {},
   "outputs": [],
   "source": []
  },
  {
   "cell_type": "code",
   "execution_count": null,
   "metadata": {},
   "outputs": [],
   "source": []
  }
 ],
 "metadata": {
  "kernelspec": {
   "display_name": "Python (datathon_env)",
   "language": "python",
   "name": "datathon_env"
  },
  "language_info": {
   "codemirror_mode": {
    "name": "ipython",
    "version": 3
   },
   "file_extension": ".py",
   "mimetype": "text/x-python",
   "name": "python",
   "nbconvert_exporter": "python",
   "pygments_lexer": "ipython3",
   "version": "3.13.3"
  }
 },
 "nbformat": 4,
 "nbformat_minor": 4
}
